{
 "cells": [
  {
   "cell_type": "markdown",
   "metadata": {},
   "source": [
    "O uso em conjunto dessas duas funções permite simular a amostragem ideal (retornando imediatamente para zero).\n",
    "\n",
    "\n",
    "# Experimento:\n",
    "\n",
    "\n",
    "Faremos a amostragem do sinal\n",
    "\n",
    "$$x(t) = e^{-1000 \\left | n \\right |}$$\n",
    "\n",
    "Pela definição da DTFT, temos que \n",
    "\n",
    "$$ X(e^{j\\omega})=\\sum_{- \\infty}^{\\infty} x[n]e^{-j\\omega n}$$\n",
    "\n",
    "Logo, devemos encontrar $X(e^{j\\omega})$ \n",
    "\n",
    "$$ X(e^{j\\omega})=\\sum_{- \\infty}^{\\infty} e^{-1000 \\left | n \\right |}\\cdot e^{-j\\omega n}$$\n",
    "\n",
    "\n",
    "$$ =\\sum_{- \\infty}^{-1} e^{-1000 \\left | n \\right |} \\cdot e^{-j\\omega n}+ \\sum_{0}^{\\infty} e^{-1000 \\left | n \\right |}\\cdot e^{-j\\omega n}$$\n",
    "\n",
    "\n",
    "\n",
    "$$ =\\sum_{- \\infty}^{-1} e^{1000  n} \\cdot e^{-j\\omega n} + \\sum_{0}^{\\infty} e^{-1000  n}\\cdot e^{-j\\omega n}$$\n",
    "\n",
    "\n",
    "$$ =\\sum_{- \\infty}^{-1} e^{n\\cdot(1000-j\\omega)} + \\sum_{0}^{\\infty} e^{n\\cdot (-1000-j\\omega)}$$\n",
    "\n",
    "Sendo $\\left \\{ \\begin{align*}k_{1} &= e^{(1000-j\\omega)}\\\\ k_{2} &= e^{(-1000-j\\omega)}\\end{align*} \\right.$\n",
    "\n",
    "$$ =\\sum_{- \\infty}^{-1} k_{1}^{n} + \\sum_{0}^{\\infty} k_{2}^{n}$$\n",
    "\n",
    "Sendo $\\left \\{ \\begin{align*}A &= \\sum_{- \\infty}^{-1} k_{1}^{n} \\\\ B &= \\sum_{0}^{\\infty} k_{2}^{n}\\end{align*}\\right.$\n",
    "\n",
    "$$X(e^{j\\omega})=A+B$$\n",
    "\n",
    "\n",
    "Resolvendo $A$, temos:\n",
    "$$A=\\frac{1}{k_{1}-1}=\\frac{1}{e^{(1000-j\\omega)}-1}$$\n",
    "Resolvendo $B$, temos:\n",
    "$$B=\\frac{1}{1-k_{2}}=\\frac{1}{1-e^{(-1000-j\\omega)}}$$\n",
    "\n",
    "Logo, temos que:\n",
    "$$X(e^{j\\omega})=\\frac{1}{e^{(1000-j\\omega)}-1}+\\frac{1}{1-e^{(-1000-j\\omega)}}$$\n",
    "\n",
    "Finalmente temos:\n",
    "\n",
    "$$X(e^{j\\omega})=\\frac{k_{2}-k_{1}}{(k_{1}-1)(k_{2}-1)}$$"
   ]
  }
 ],
 "metadata": {
  "kernelspec": {
   "display_name": "Matlab",
   "language": "matlab",
   "name": "matlab"
  },
  "language_info": {
   "codemirror_mode": "octave",
   "file_extension": ".m",
   "help_links": [
    {
     "text": "MetaKernel Magics",
     "url": "https://github.com/calysto/metakernel/blob/master/metakernel/magics/README.md"
    }
   ],
   "mimetype": "text/x-matlab",
   "name": "matlab",
   "version": "0.14.3"
  }
 },
 "nbformat": 4,
 "nbformat_minor": 2
}
