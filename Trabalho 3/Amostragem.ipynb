{
 "cells": [
  {
   "cell_type": "markdown",
   "metadata": {},
   "source": [
    "O uso em conjunto dessas duas funções permite simular a amostragem ideal (retornando imediatamente para zero).\n",
    "\n",
    "\n",
    "# Experimento:\n",
    "\n",
    "\n",
    "Faremos a amostragem do sinal\n",
    "\n",
    "$$x(t)=e^{-1000\\left | t \\right |}$$\n",
    "\n",
    "Pela definição da DTFT, temos que \n",
    "\n",
    "$$ X(\\Omega)=\\int_{-\\infty}^{\\infty}x(t)\\cdot e^{-j \\Omega t} dt$$\n",
    "\n",
    "Aplicando $x(t)$\n",
    "\n",
    "$$ X(\\Omega)=\\int_{-\\infty}^{\\infty} e^{-1000\\left | t \\right |} \\cdot e^{-j \\Omega t} dt$$\n",
    "\n",
    "Podemos representar $ \\left |t \\right | = \\left \\{ t , t \\geq 0 \\\\-t , t \\geq 1  \\right. $ então podemos representar $x(t)$ como:\n"
   ]
  }
 ],
 "metadata": {
  "kernelspec": {
   "display_name": "Matlab",
   "language": "matlab",
   "name": "matlab"
  },
  "language_info": {
   "codemirror_mode": "octave",
   "file_extension": ".m",
   "help_links": [
    {
     "text": "MetaKernel Magics",
     "url": "https://github.com/calysto/metakernel/blob/master/metakernel/magics/README.md"
    }
   ],
   "mimetype": "text/x-matlab",
   "name": "matlab",
   "version": "0.14.3"
  }
 },
 "nbformat": 4,
 "nbformat_minor": 2
}
