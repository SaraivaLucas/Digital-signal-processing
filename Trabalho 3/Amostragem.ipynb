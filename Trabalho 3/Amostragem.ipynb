{
 "cells": [
  {
   "cell_type": "markdown",
   "metadata": {},
   "source": [
    "O uso em conjunto dessas duas funções permite simular a amostragem ideal (retornando imediatamente para zero).\n",
    "\n",
    "\n",
    "# Experimento:\n",
    "\n",
    "\n",
    "Faremos a amostragem do sinal\n",
    "\n",
    "$$x(t)=e^{-1000\\left | t \\right |}$$\n",
    "\n",
    "Pela definição da DTFT, temos que \n",
    "\n",
    "$$ X(\\Omega)=\\int_{-\\infty}^{\\infty}x(t)\\cdot e^{-j \\Omega t} dt$$\n",
    "\n",
    "Aplicando $x(t)$\n",
    "\n",
    "$$ X(\\Omega)=\\int_{-\\infty}^{\\infty} e^{-1000\\left | t \\right |} \\cdot e^{-j \\Omega t} dt$$\n",
    "\n",
    "Podemos representar $ \\left |t \\right | = \\left \\{ \\begin{align*}t &, t \\geq 0 \\\\-t &, t \\geq 1 \\end{align*} \\right.$ então podemos representar $x(t)$ como:\n",
    "\n",
    "$$ x(t) = e^{-1000|t| } = \\left \\{ \\begin{align*} &e^{-1000|t| }, &t\\geq0\\\\&e^{1000|t| }  , &t\\leq0\\end{align*} \\right.$$\n",
    "\n",
    "Aplicando a propriedade da transformada da soma igual a soma das transformadas\n",
    "\n",
    "$$ X(\\Omega)=\\int_{0}^{\\infty}e^{-1000\\left | t \\right |}  \\cdot e^{-j \\Omega t} dt + \\int_{-\\infty}^{0}e^{1000\\left | t \\right |}  \\cdot e^{-j \\Omega t} dt $$\n",
    "\n",
    "\n",
    "Obtem-se no domínio $\\Omega$\n",
    "$$X(\\Omega)=\\frac{e^{-t(1000+j\\Omega)}}{-1000-j\\Omega}\\left.\\begin{matrix}\\\\\\\\\\end{matrix}\\right|_{0}^{\\infty} + \\frac{e^{t(1000-j\\Omega)}}{1000-j\\Omega}\\left.\\begin{matrix}\\\\\\\\\\end{matrix}\\right|_{-\\infty}^{0}$$\n",
    "\n",
    "\n",
    "$$ = \\frac{e^{-\\infty}-e^{0}}{-(1000+j\\Omega)} +\\frac{e^{0}-e^{-\\infty}}{(1000-j\\Omega)} $$\n",
    "\n",
    "$$= \\frac{1}{(1000+j\\Omega)} +\\frac{1}{(1000-j\\Omega)}$$\n",
    "\n",
    "Finalmente\n",
    "\n",
    "$$X(\\Omega)= \\frac{2000}{(10^{6}+\\Omega)}$$"
   ]
  }
 ],
 "metadata": {
  "kernelspec": {
   "display_name": "Matlab",
   "language": "matlab",
   "name": "matlab"
  },
  "language_info": {
   "codemirror_mode": "octave",
   "file_extension": ".m",
   "help_links": [
    {
     "text": "MetaKernel Magics",
     "url": "https://github.com/calysto/metakernel/blob/master/metakernel/magics/README.md"
    }
   ],
   "mimetype": "text/x-matlab",
   "name": "matlab",
   "version": "0.14.3"
  }
 },
 "nbformat": 4,
 "nbformat_minor": 2
}
