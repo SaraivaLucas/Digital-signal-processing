{
 "cells": [
  {
   "cell_type": "markdown",
   "metadata": {},
   "source": [
    "# Universidade Federal do Rio Grande do Norte\n",
    "\n",
    "##  Processamento Digital de Sinais \n",
    "\n",
    "### Simulação Computacional - Amostragem periódica - Matlab\n",
    "\n",
    "**Aluno:**  Lucas Bezerra Dantas Saraiva\n",
    "\n",
    "**Professor:**  Luiz Felipe de Queiroz Silveira\n",
    "\n",
    "**Data de entrega :**  20/10/2017\n",
    "\n",
    "\n",
    "--------\n",
    "### Amostragem\n",
    "\n",
    "A amostragem é um processo completamente reversível, que pode ser desfeito sem perdas. Isso significa que o conjunto de amostras pode ser usado para reconstruir completamente o sinal contínuo. Para que isso ocorra, o processo de amostragem deve obedecer algumas regras. \n",
    "\n",
    "> Dado um sinal contínuo $m(t)$ com largura de banda $B$, desde que a frequência de amostragem seja maior que dobro da largura de banda ($f_{s}$ > 2B) é possível recuperar o sinal contínuo perfeitamente a partir do sinal amostrado (Teorema de Nyquist). \n",
    "\n",
    "> O sinal amostrado deve ser limitado em banda. Essa segunda regra pode ser garantida com um filtro passa-baixa aplicado ao sinal contínuo antes da amostragem.\n",
    "\n",
    "Essas regras devem ser obedecidas para evitar o _aliasing_ (mascaramento), que nada mais é que a sobreposição das cópias espectrais resultantes do processo de amostragem. Nesta prática, veremos esse efeito em um sinal exponencial.\n",
    "\n",
    "O código a seguir mostra a maneira genérica de gerar um sinal senoidal no Matlab. Dessa maneira, dependedo do referencial temporal, podemos modelar um sinal contínuo no tempo (taxa amostragem alta). Contudo, isso é somente um modelo, pois, na realidade, todos os sinais em um computador são discretos.\n"
   ]
  },
  {
   "cell_type": "code",
   "execution_count": 2,
   "metadata": {},
   "outputs": [
    {
     "data": {
      "image/png": "[encoded data removed]",
      "text/plain": [
       "<IPython.core.display.Image object>"
      ]
     },
     "metadata": {},
     "output_type": "display_data"
    }
   ],
   "source": [
    "Ts = 0.02;                                          % Período de amostragem\n",
    "t = 0:Ts:2;                                         % Eixo do tempo\n",
    "m = sin(2*pi*2*t);                                  % Sinal m(t)\n",
    "fig = figure;\n",
    "stem(t,m,'.');\n",
    "fig.PaperUnits = 'inches';\n",
    "fig.PaperPosition = [0 0 9 3];"
   ]
  },
  {
   "cell_type": "markdown",
   "metadata": {},
   "source": [
    "O sinal $m(t)$ construído acima não é contínuo no tempo, mas discreto. Contudo, depedendo da maneira que o sinal é mostrado (função stem ou função plot), sua visualização no domínio do tempo é diferente.  Isso ocorre porque a função $plot$ liga os pontos do vetor por meio de retas, dando a visualização de um sinal contínuo. Contudo, a amostra em $t = 0.01$, simplesmente, não existe, pois o eixo temporal foi construído em passos de $0.02$. \n",
    "\n",
    "\n",
    "## Subamostragem e Sobreamostragem\n",
    "\n",
    "A importância da sobreamostragem e subamostragem está na adequação do rítmo das amostras numa cadeia de processamento digital de sinais envolvendo hardwares diferentes. Podemos ter situações que hardwares com diferentes capacidades de processamento tenham que, ao trabalharem em conjunto no mesmo sinal, realizar mudanças de taxa de amostragem para adequar o envio/recebimento de amostras no ritmo que eles consigam trabalhar. Como por exemplo a placa de som de um computador. Trabalhando numa frequência de $f=44.1 kHz$ precisam que os softwares que a usam mandem amostras nesse ritmo para que não distorça o sinal de áudio.\n",
    "\n",
    "O processo de amostragem será baseado na amostragem ensinada no [Lathi](https://www.amazon.com/Digital-Communication-Electrical-Computer-Engineering/dp/0195331451). Será feito uso de duas funções do Matlab: ** Downsample** e **Upsample**.\n",
    "\n",
    "A função **downsample** do Matlab coleta amostras em um intervalo de $N$ elementos, especificado como parâmetro"
   ]
  },
  {
   "cell_type": "code",
   "execution_count": 1,
   "metadata": {},
   "outputs": [
    {
     "name": "stdout",
     "output_type": "stream",
     "text": [
      "     0    10    20    30    40    50    60    70    80    90   100\n",
      "\n"
     ]
    }
   ],
   "source": [
    "N = 10;                                             % Número de amostras puladas\n",
    "x=0:1:100;                                          % Vetor com número inteiros de 0 à 100, de 1 em 1\n",
    "y= downsample(x,N);                                 % Coleta 1 elemento a cada 10 elementos do vetor\n",
    "disp(y);\n"
   ]
  },
  {
   "cell_type": "markdown",
   "metadata": {},
   "source": [
    "Similarmente, a função **upsample** do Matlab aumenta o vetor preenchendo com zeros $(N - 1)$ elementos entre as amostras do vetor de entrada."
   ]
  },
  {
   "cell_type": "code",
   "execution_count": 2,
   "metadata": {},
   "outputs": [
    {
     "name": "stdout",
     "output_type": "stream",
     "text": [
      "  Columns 1 through 13\n",
      "\n",
      "     1     0     0     2     0     0     3     0     0     4     0     0     5\n",
      "\n",
      "  Columns 14 through 26\n",
      "\n",
      "     0     0     6     0     0     7     0     0     8     0     0     9     0\n",
      "\n",
      "  Columns 27 through 30\n",
      "\n",
      "     0    10     0     0\n",
      "\n"
     ]
    }
   ],
   "source": [
    "x=1:1:10;                                            % Vetor com inteiros de 1 a 10\n",
    "N = 3;                                               % Número de sobreamostragem\n",
    "y = upsample(x,N);                                   % Coloca 1 amostra a cada (N-1) elementos\n",
    "disp(y);"
   ]
  },
  {
   "cell_type": "markdown",
   "metadata": {},
   "source": [
    "O uso em conjunto dessas duas funções permite simular a amostragem ideal (retornando imediatamente para zero).\n",
    "\n",
    "\n",
    "# Experimento:\n",
    "\n",
    "\n",
    "Queremos fazer a amostragem do sinal $x(t)=e^{-1000\\left | t \\right |}$. Primeiramente queremos saber qual a banda mínima do sinal para que não sofra sobreposição espectral calculando pela definição da DTFT. Temos que \n",
    "\n",
    "$$ X(\\Omega)=\\int_{-\\infty}^{\\infty}x(t)\\cdot e^{-j \\Omega t} dt$$\n",
    "\n",
    "Aplicando  a $x(t)$\n",
    "\n",
    "$$ X(\\Omega)=\\int_{-\\infty}^{\\infty} e^{-1000\\left | t \\right |} \\cdot e^{-j \\Omega t} dt$$\n",
    "\n",
    "Podemos representar $\\left |t \\right |=\\left\\{\\begin{matrix}t , &t \\geq 0 \\\\ -t , &t \\leq 0 \\end{matrix}\\right.$. Então representaremos $x(t)$ como:\n",
    "\n",
    "$$x(t) = e^{-1000|t| } =\\left\\{\\begin{matrix}e^{-1000t }, &t\\geq 0 \\\\ e^{1000t }, &t\\leq 0\\end{matrix}\\right.$$\n",
    "\n",
    "Aplicando a propriedade da transformada da soma igual a soma das transformadas\n",
    "\n",
    "$$ X(\\Omega)=\\int_{0}^{\\infty}e^{-1000 t }  \\cdot e^{-j \\Omega t} dt + \\int_{-\\infty}^{0}e^{1000 t}  \\cdot e^{-j \\Omega t} dt $$\n",
    "\n",
    "\n",
    "Obtem-se no domínio $\\Omega$\n",
    "$$X(\\Omega)=\\frac{e^{-t(1000+j\\Omega)}}{-1000-j\\Omega}\\left.\\begin{matrix}\\\\\\\\\\end{matrix}\\right|_{0}^{\\infty} + \\frac{e^{t(1000-j\\Omega)}}{1000-j\\Omega}\\left.\\begin{matrix}\\\\\\\\\\end{matrix}\\right|_{-\\infty}^{0}$$\n",
    "\n",
    "\n",
    "$$ = \\frac{e^{-\\infty}-e^{0}}{-(1000+j\\Omega)} +\\frac{e^{0}-e^{-\\infty}}{(1000-j\\Omega)} $$\n",
    "\n",
    "$$= \\frac{1}{(1000+j\\Omega)} +\\frac{1}{(1000-j\\Omega)}$$\n",
    "\n",
    "Finalmente\n",
    "\n",
    "$$X(\\Omega)= \\frac{2000}{(10^{6}+\\Omega^{2})}$$\n",
    "Podemos simular o sinal em frequência $X(\\Omega)$ e ver até onde é conveniente levar em consideração a amplitude. O critério será usado como $X(\\Omega_{e})= 1\\% \\left|X(\\Omega) \\right |$."
   ]
  },
  {
   "cell_type": "code",
   "execution_count": 4,
   "metadata": {},
   "outputs": [
    {
     "name": "stdout",
     "output_type": "stream",
     "text": [
      "Warning: Integer operands are required for colon operator when used as index\n",
      "\n",
      "ans =\n",
      "\n",
      "       -9950\n",
      "\n"
     ]
    },
    {
     "data": {
      "image/png": "[encoded data removed]",
      "text/plain": [
       "<IPython.core.display.Image object>"
      ]
     },
     "metadata": {},
     "output_type": "display_data"
    }
   ],
   "source": [
    "clc;clear all;close all;\n",
    "%% Parâmetros\n",
    "Omega=-10000:1:10000;                                               % Montagem do eixo ômega\n",
    "X_Omega=2000./(1e6+Omega.^(2));                                     % Espectro de x(t)\n",
    "indice=find(X_Omega(1,1:length(X_Omega)/2) <= 0.01*max(X_Omega));   % Encontra indice onde X(Omega)<0.01*X(Omega)\n",
    "plot(Omega,X_Omega,Omega(indice),X_Omega(indice),'o')               % Mostra gráfico e pontos\n",
    "Omega(max(indice))                                                  % Display valor de frequência\n",
    "legend('X(e^{jw})','Frequência Mínima')"
   ]
  },
  {
   "cell_type": "markdown",
   "metadata": {},
   "source": [
    "O erro máximo é de $ E$ ≅  $2\\%$ ocorrendo pelo baixo aliasing, já que nosso critério foi encontrar a frequência cuja "
   ]
  }
 ],
 "metadata": {
  "kernelspec": {
   "display_name": "Matlab",
   "language": "matlab",
   "name": "matlab"
  },
  "language_info": {
   "codemirror_mode": "octave",
   "file_extension": ".m",
   "help_links": [
    {
     "text": "MetaKernel Magics",
     "url": "https://github.com/calysto/metakernel/blob/master/metakernel/magics/README.md"
    }
   ],
   "mimetype": "text/x-matlab",
   "name": "matlab",
   "version": "0.14.3"
  }
 },
 "nbformat": 4,
 "nbformat_minor": 2
}
