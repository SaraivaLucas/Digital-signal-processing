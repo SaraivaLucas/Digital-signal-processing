{
 "cells": [
  {
   "cell_type": "markdown",
   "metadata": {},
   "source": [
    "# Digital-signal-processing\n",
    "At this repository I'll create my own examples about digital signal processing with due theoretical background creating my owns expamples.\n",
    "\n",
    "----------\n",
    "\n",
    "## [Discrete Time Fourier Transform (DTFT) - Matlab](http://nbviewer.jupyter.org/github/SaraivaLucas/Digital-signal-processing/blob/master/Trabalho%201/Trabalho%20DTFT.ipynb)\n",
    "\n",
    "## [Computational Simulation - Discrete Time Signals and Systems](https://github.com/SaraivaLucas/Digital-signal-processing/blob/master/Trabalho%202/Trabalho%20Rxx.ipynb)\n"
   ]
  },
  {
   "cell_type": "code",
   "execution_count": null,
   "metadata": {
    "collapsed": true
   },
   "outputs": [],
   "source": []
  }
 ],
 "metadata": {
  "kernelspec": {
   "display_name": "Matlab",
   "language": "matlab",
   "name": "matlab"
  },
  "language_info": {
   "codemirror_mode": "octave",
   "file_extension": ".m",
   "help_links": [
    {
     "text": "MetaKernel Magics",
     "url": "https://github.com/calysto/metakernel/blob/master/metakernel/magics/README.md"
    }
   ],
   "mimetype": "text/x-matlab",
   "name": "matlab",
   "version": "0.14.3"
  }
 },
 "nbformat": 4,
 "nbformat_minor": 2
}
